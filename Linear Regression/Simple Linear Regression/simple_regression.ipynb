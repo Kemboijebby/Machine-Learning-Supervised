{
 "cells": [
  {
   "cell_type": "markdown",
   "metadata": {},
   "source": [
    "# Simple Linear Regression\n",
    "\n",
    "It's a statistical method that allows us to summarize and study relationships between two continuous variables\n",
    "\n",
    "- a predictor/independent variable\n",
    "- an outcome/response/dependent variable\n",
    "\n",
    "Simple linear regression may be used to determine\n",
    "\n",
    "\n",
    "Types of relationships\n",
    "\n",
    "- deterministic relationship\n",
    "> refers to the relationship between variables that can be precisely described by a mathematical equation. There is no element of randomness or uncertiany involved\n",
    "\n",
    "![deterministic relationship](deterministic.png)\n",
    "\n",
    "- statistical relationships\n",
    "> the relationships between the variables is not perfect\n",
    "\n",
    "![statistical relationship](stats.png)"
   ]
  },
  {
   "cell_type": "markdown",
   "metadata": {},
   "source": [
    "`y = β₀ + β₁ * x + ε`\n",
    "\n",
    "where:-\n",
    "\n",
    "- y = independent variable\n",
    "- B<sub>0</sub> = Y-intercept\n",
    "- B<sub>1</sub> = The independent variable\n",
    "- E = error term\n",
    "\n",
    "basically \n",
    "\n",
    "`y = mx + c`"
   ]
  }
 ],
 "metadata": {
  "language_info": {
   "name": "python"
  },
  "orig_nbformat": 4
 },
 "nbformat": 4,
 "nbformat_minor": 2
}
