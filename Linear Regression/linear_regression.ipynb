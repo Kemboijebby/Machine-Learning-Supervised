{
 "cells": [
  {
   "cell_type": "markdown",
   "metadata": {},
   "source": [
    "# Linear Regression\n",
    "\n",
    "It's a supervised machine learning algorithm\n",
    "\n",
    "It is used to predict the value of a variable base on the value of another variable\n",
    "\n",
    "It shows the relationship etween 2 variables and how change in one variable impacts the other\n",
    "\n",
    "The variable you wanna predict is called the dependent variable\n",
    "\n",
    "The variable used to predict the other variable's value is called independent variable\n",
    "\n",
    "Linear regression estimates the coefficients of linear equation, involving one or more independent variables\n",
    "\n",
    "Linear regression fits a straight line, a line of best-fit, that minimizes the error between the real value and the predicted value\n",
    "\n",
    "## Types of Linear Regression\n",
    "\n",
    "### Simple linear regression\n",
    "\n",
    "It considers one dependent variable(interval or ratio) and one independent variable\n",
    "\n",
    "### Multiple linear regression\n",
    "\n",
    "It considers one dependent variable and multiple independent variables\n",
    "\n",
    "### Logistic regression\n",
    "\n",
    "It considers one dependent variable and multiple independent variables\n",
    "\n",
    "\n",
    "## Linear Regression Assumptions\n",
    "\n",
    "- Linear relationship\n",
    "- Multivariate normality\n",
    "> It's a statistical concept that describes the distribution of multiple variables as being jointly normally distributed\n",
    "\n",
    "- No or little multicollinearity\n",
    "> It's a phenomenon that occurs in multiple linear regression when two or more independent variables are highly correlated with each other\n",
    "> This makes it difficult to establish the effects of each variable on the dependent variable\n",
    "\n",
    "- No auto-correlation\n",
    "- Homoscedasticity\n",
    "> Refers to the assumption that the variance of the residuals(the differences between observed and predicted values) is constant across all levels of the independent variables"
   ]
  },
  {
   "cell_type": "markdown",
   "metadata": {},
   "source": [
    "## Advantages of Linear Regression\n",
    "\n",
    "- It's easy to explain\n",
    "- Requires minimal tuning\n",
    "- It's the most widely used ML technique that runs fast\n",
    "\n",
    "\n",
    "## Applications of Linear Regression\n",
    "\n",
    "- Estimating Sales\n",
    "- Risk Assessment"
   ]
  }
 ],
 "metadata": {
  "language_info": {
   "name": "python"
  },
  "orig_nbformat": 4
 },
 "nbformat": 4,
 "nbformat_minor": 2
}
