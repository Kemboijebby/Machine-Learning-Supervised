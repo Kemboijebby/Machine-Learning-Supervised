{
 "cells": [
  {
   "cell_type": "markdown",
   "metadata": {},
   "source": [
    "# Gradient Descent\n",
    "\n",
    "It's an iterative optimization algprithm that tries to find the optimum value of an objective function\n",
    "\n",
    "It is used for optimizing/tweaking/updating parameters of a model in order to minimize a cost function\n",
    "\n",
    "The main aim is to find the best parameters of a model which gives the highest accuracy on training and test sets\n",
    "\n",
    "The gradient is a vector that points in the direction of the steepest increase of the function at a specific point, it moves in the opposite direction of the gradient\n",
    "\n",
    "An import parameter in gradient descent is the size of the steps "
   ]
  },
  {
   "cell_type": "code",
   "execution_count": null,
   "metadata": {},
   "outputs": [],
   "source": []
  }
 ],
 "metadata": {
  "kernelspec": {
   "display_name": "Python 3",
   "language": "python",
   "name": "python3"
  },
  "language_info": {
   "codemirror_mode": {
    "name": "ipython",
    "version": 3
   },
   "file_extension": ".py",
   "mimetype": "text/x-python",
   "name": "python",
   "nbconvert_exporter": "python",
   "pygments_lexer": "ipython3",
   "version": "3.10.12"
  },
  "orig_nbformat": 4
 },
 "nbformat": 4,
 "nbformat_minor": 2
}
