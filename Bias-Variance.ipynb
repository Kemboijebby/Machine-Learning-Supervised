{
 "cells": [
  {
   "cell_type": "markdown",
   "metadata": {},
   "source": [
    "# The Bias-Variance Tradeoff\n",
    "\n",
    "Both are measures of what would happen if you were to retrain your model many times on different datasets\n",
    "\n",
    "## Bias\n",
    "\n",
    "It's the difference between the prediction of the values by the ML model and the actual value\n",
    "\n",
    "High bias gives a large error in training as well as testing data\n",
    "\n",
    "A model should be low-biased to avoid underfitting\n",
    "\n",
    "## Variance\n",
    "\n",
    "refers to the measure of spread of a set of values around the mean\n",
    "\n",
    "A high variance model has a complex fit on the training data but performs poorly on new/test data\n",
    "\n",
    "A model with high variance is said to be overfitted\n",
    "\n",
    "## Bias-Variance Tradeoff\n",
    "\n",
    "A simple algorithm may have high bias and low variance thus error prone\n",
    "A too complex algorithm may have high variance and low bias\n",
    "\n",
    "The Bias-Variance tradeoff tries to simultaneously minimize variance and bias\n",
    "\n",
    "We try to optimize the value of the total error for the model by using the ***Bias-Variance*** tradeoff\n",
    "\n"
   ]
  },
  {
   "cell_type": "markdown",
   "metadata": {},
   "source": []
  }
 ],
 "metadata": {
  "language_info": {
   "name": "python"
  },
  "orig_nbformat": 4
 },
 "nbformat": 4,
 "nbformat_minor": 2
}
